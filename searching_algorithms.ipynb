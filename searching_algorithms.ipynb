{
 "cells": [
  {
   "cell_type": "markdown",
   "id": "38b5974c",
   "metadata": {},
   "source": [
    "# Linear search"
   ]
  },
  {
   "cell_type": "code",
   "execution_count": 26,
   "id": "ddcf7c52",
   "metadata": {},
   "outputs": [],
   "source": [
    "def linear_search(search, array): # O(n)\n",
    "    count = 0\n",
    "    for index, x in enumerate(array):\n",
    "        if search == x:\n",
    "            print(f\"Found {x} after {count} loops\")\n",
    "            break\n",
    "        count += 1"
   ]
  },
  {
   "cell_type": "code",
   "execution_count": 66,
   "id": "074ac390",
   "metadata": {},
   "outputs": [
    {
     "name": "stdout",
     "output_type": "stream",
     "text": [
      "Found 9999 after 9999 loops\n"
     ]
    }
   ],
   "source": [
    "search = 9999\n",
    "array = np.arange(0, 10000)\n",
    "linear_search(search, array)"
   ]
  },
  {
   "cell_type": "markdown",
   "id": "79ebbef7",
   "metadata": {},
   "source": [
    "# Binary search"
   ]
  },
  {
   "cell_type": "code",
   "execution_count": 61,
   "id": "0d4fdd41",
   "metadata": {},
   "outputs": [],
   "source": [
    "import numpy as np"
   ]
  },
  {
   "cell_type": "code",
   "execution_count": 60,
   "id": "928700ae",
   "metadata": {},
   "outputs": [],
   "source": [
    "def binary_search(search, array): # O(log n)\n",
    "    \n",
    "    start = 0\n",
    "    end = len(array)\n",
    "    count = 1\n",
    "    \n",
    "    while end > start:\n",
    "        print(f\"Finding at index {start} to {end} \", end=\"\")\n",
    "        mid = (start + end) // 2\n",
    "        \n",
    "        if array[mid] > search:\n",
    "            end = mid\n",
    "            print(\"not found\")\n",
    "        elif array[mid] < search:\n",
    "            start = mid\n",
    "            print(\"not found\")\n",
    "        elif search == array[mid]:\n",
    "            print(f\"\\n\\nFound {search} after {count} loops\")\n",
    "            break\n",
    "        count += 1"
   ]
  },
  {
   "cell_type": "code",
   "execution_count": 59,
   "id": "c59f156c",
   "metadata": {},
   "outputs": [],
   "source": [
    "def binary_search_recursive(search, array, count=0): # O(log n)\n",
    "    \n",
    "    count += 1\n",
    "    \n",
    "    if len(array) == 0:\n",
    "        return False\n",
    "    else:\n",
    "        mid = len(array) // 2\n",
    "        if search == array[mid]:\n",
    "            print(f\"Found {search} after {count} loops\")\n",
    "            return True\n",
    "        elif search > array[mid]:\n",
    "            binary_search_recursive(search, array[mid:], count)\n",
    "        elif search < array[mid]:\n",
    "            binary_search_recursive(search, array[:mid], count)"
   ]
  },
  {
   "cell_type": "code",
   "execution_count": 67,
   "id": "2875f253",
   "metadata": {
    "scrolled": true
   },
   "outputs": [
    {
     "name": "stdout",
     "output_type": "stream",
     "text": [
      "Finding at index 0 to 10000 not found\n",
      "Finding at index 5000 to 10000 not found\n",
      "Finding at index 7500 to 10000 not found\n",
      "Finding at index 8750 to 10000 not found\n",
      "Finding at index 9375 to 10000 not found\n",
      "Finding at index 9687 to 10000 not found\n",
      "Finding at index 9843 to 10000 not found\n",
      "Finding at index 9921 to 10000 not found\n",
      "Finding at index 9960 to 10000 not found\n",
      "Finding at index 9980 to 10000 not found\n",
      "Finding at index 9990 to 10000 not found\n",
      "Finding at index 9995 to 10000 not found\n",
      "Finding at index 9997 to 10000 not found\n",
      "Finding at index 9998 to 10000 \n",
      "\n",
      "Found 9999 after 14 loops\n"
     ]
    }
   ],
   "source": [
    "array = np.arange(0, 10000)\n",
    "search = 9999\n",
    "binary_search(search, array)"
   ]
  },
  {
   "cell_type": "code",
   "execution_count": 68,
   "id": "e898c367",
   "metadata": {},
   "outputs": [
    {
     "name": "stdout",
     "output_type": "stream",
     "text": [
      "Found 9999 after 14 loops\n"
     ]
    }
   ],
   "source": [
    "array = np.arange(0, 10000)\n",
    "search = 9999\n",
    "binary_search_recursive(search, array)"
   ]
  },
  {
   "cell_type": "markdown",
   "id": "ab2358e5",
   "metadata": {},
   "source": [
    "# Binary search tree"
   ]
  },
  {
   "cell_type": "code",
   "execution_count": 69,
   "id": "35dca02a",
   "metadata": {},
   "outputs": [],
   "source": [
    "class Node(object):\n",
    "    def __init__(self, val):\n",
    "        self.val = val\n",
    "        self.right = None\n",
    "        self.left = None"
   ]
  },
  {
   "cell_type": "code",
   "execution_count": 305,
   "id": "3fc4c7b1",
   "metadata": {},
   "outputs": [],
   "source": [
    "class BinarySearchTree(object):\n",
    "    def __init__(self):\n",
    "        self.root = None\n",
    "    \n",
    "    def insert(self, val): # O(log n)\n",
    "        node = Node(val)\n",
    "        \n",
    "        \n",
    "        if self.root is None:\n",
    "            self.root = node\n",
    "        else:\n",
    "            \n",
    "            temp = self.root\n",
    "            \n",
    "            while temp is not None: \n",
    " \n",
    "                if node.val < temp.val:\n",
    "                    \n",
    "                    # left\n",
    "                    if temp.left is None:\n",
    "                        temp.left = node \n",
    "                        break\n",
    "                    else:\n",
    "                        temp = temp.left\n",
    "                else:\n",
    "                    # right\n",
    "                    if temp.right is None:\n",
    "                        temp.right = node\n",
    "                        break\n",
    "                    else:\n",
    "                        temp = temp.right \n",
    "                        \n",
    "    def remove(self, root, val): \n",
    "        \n",
    "        \"\"\"\n",
    "            https://visualgo.net/en/bst?slide=3-4\n",
    "        \"\"\"\n",
    "        \n",
    "        if root is None:\n",
    "            return root\n",
    "\n",
    "        if val < root.val:\n",
    "            root.left = self.remove(root.left, val)\n",
    "        elif val > root.val:\n",
    "            root.right = self.remove(root.right, val)\n",
    "        else:\n",
    "            if root.left is None:\n",
    "                temp = root.right\n",
    "                root = None\n",
    "                return temp\n",
    "            \n",
    "            elif root.right is None:\n",
    "                temp = root.left\n",
    "                root = None\n",
    "                return temp\n",
    "\n",
    "            temp = root.right\n",
    "            while temp.left is not None:\n",
    "                temp = temp.left\n",
    "            \n",
    "            root.val = temp.val\n",
    "            root.right = self.remove(root.right, temp.val) \n",
    "        \n",
    "        return root\n",
    "\n",
    "                \n",
    "    def search(self, val): \n",
    "        \n",
    "        node = self.root\n",
    "        counter = 0\n",
    "        while node is not None:\n",
    "            counter += 1\n",
    "            if node.val == val:\n",
    "                print(f\"Found {val} after {counter} loops\")\n",
    "                return\n",
    "            elif val > node.val:\n",
    "                node = node.right\n",
    "            else:\n",
    "                node = node.left\n",
    "        \n",
    "        return \"Not found\"\n",
    "    \n",
    "    \n",
    "    def search_recursive(self, root, val, count=1):\n",
    "        count += 1\n",
    "        if root.val == val:\n",
    "            print(f\"Found {val} afer {count} loops\")\n",
    "            return\n",
    "\n",
    "        if val < root.val:\n",
    "            root = self.search_recursive(root.left, val, count)\n",
    "        else:\n",
    "            root = self.search_recursive(root.right, val, count)       \n",
    "             \n",
    "        return root\n",
    "    \n",
    "    def print_binary_search_tree(self, root, count=0): # O(n)\n",
    "        \n",
    "        count += 1\n",
    "        \n",
    "        if root is not None:\n",
    "            print(\"Found\", root.val, f\"after {count} loops\")\n",
    "            self.print_binary_search_tree(root.left, count)\n",
    "            self.print_binary_search_tree(root.right, count)\n",
    "         \n"
   ]
  },
  {
   "cell_type": "code",
   "execution_count": 306,
   "id": "cf5133b9",
   "metadata": {},
   "outputs": [],
   "source": [
    "app = BinarySearchTree()\n",
    "app.insert(9)\n",
    "app.insert(4)\n",
    "app.insert(20)\n",
    "app.insert(1)\n",
    "app.insert(6)\n",
    "app.insert(15)\n",
    "app.insert(170)"
   ]
  },
  {
   "cell_type": "code",
   "execution_count": 307,
   "id": "1d5d72fc",
   "metadata": {
    "scrolled": true
   },
   "outputs": [
    {
     "name": "stdout",
     "output_type": "stream",
     "text": [
      "Found 9 after 1 loops\n",
      "Found 4 after 2 loops\n",
      "Found 1 after 3 loops\n",
      "Found 6 after 3 loops\n",
      "Found 20 after 2 loops\n",
      "Found 15 after 3 loops\n",
      "Found 170 after 3 loops\n"
     ]
    }
   ],
   "source": [
    "app.print_binary_search_tree(app.root)"
   ]
  },
  {
   "cell_type": "code",
   "execution_count": 308,
   "id": "4d6ae126",
   "metadata": {},
   "outputs": [
    {
     "data": {
      "text/plain": [
       "'Not found'"
      ]
     },
     "execution_count": 308,
     "metadata": {},
     "output_type": "execute_result"
    }
   ],
   "source": [
    "app.search(36)"
   ]
  },
  {
   "cell_type": "code",
   "execution_count": 309,
   "id": "1a87355c",
   "metadata": {
    "scrolled": true
   },
   "outputs": [
    {
     "name": "stdout",
     "output_type": "stream",
     "text": [
      "Found 20 afer 3 loops\n"
     ]
    }
   ],
   "source": [
    "app.search_recursive(app.root, 20)"
   ]
  },
  {
   "cell_type": "code",
   "execution_count": 310,
   "id": "59548865",
   "metadata": {},
   "outputs": [
    {
     "data": {
      "text/plain": [
       "<__main__.Node at 0x7f37f02f89d0>"
      ]
     },
     "execution_count": 310,
     "metadata": {},
     "output_type": "execute_result"
    }
   ],
   "source": [
    "app.remove(app.root, 6)"
   ]
  },
  {
   "cell_type": "code",
   "execution_count": 311,
   "id": "dd931f68",
   "metadata": {},
   "outputs": [
    {
     "name": "stdout",
     "output_type": "stream",
     "text": [
      "Found 9 after 1 loops\n",
      "Found 4 after 2 loops\n",
      "Found 1 after 3 loops\n",
      "Found 20 after 2 loops\n",
      "Found 15 after 3 loops\n",
      "Found 170 after 3 loops\n"
     ]
    }
   ],
   "source": [
    "app.print_binary_search_tree(app.root)"
   ]
  },
  {
   "cell_type": "markdown",
   "id": "d4e40e5c",
   "metadata": {},
   "source": [
    "# Hash Table"
   ]
  },
  {
   "cell_type": "code",
   "execution_count": 266,
   "id": "9c83e835",
   "metadata": {},
   "outputs": [],
   "source": [
    "class HashTable(object):\n",
    "    \n",
    "    def __init__(self):\n",
    "        \n",
    "        self.data = {}\n",
    "        self.length = 0\n",
    "        \n",
    "    def hash(self, key):\n",
    "        \n",
    "        hash = 0\n",
    "        for i, x in enumerate(key):\n",
    "            hash += ord(x) * i + len(key)\n",
    "        \n",
    "        return hash\n",
    "    \n",
    "    def set(self, key, val):\n",
    "        self.data[self.hash(key)] = val\n",
    "        self.length += 1\n",
    "        \n",
    "    def get(self, key):\n",
    "        key = self.hash(key)\n",
    "        return self.data[key] if key in self.data else \"Not found!\"\n",
    "    \n",
    "    def delete(self, key):\n",
    "        key = self.hash(key)\n",
    "        del self.data[key]\n",
    "        "
   ]
  },
  {
   "cell_type": "code",
   "execution_count": 267,
   "id": "10d7f6bd",
   "metadata": {},
   "outputs": [],
   "source": [
    "app = HashTable()\n",
    "app.set(\"seven\", 9)\n",
    "app.set(\"seVen\", 7)\n",
    "app.set(\"sEven\", 34)\n",
    "app.set(\"Seven\", 5656)"
   ]
  },
  {
   "cell_type": "code",
   "execution_count": 268,
   "id": "e7b8b257",
   "metadata": {},
   "outputs": [
    {
     "data": {
      "text/plain": [
       "5656"
      ]
     },
     "execution_count": 268,
     "metadata": {},
     "output_type": "execute_result"
    }
   ],
   "source": [
    "app.get(\"Seven\")"
   ]
  },
  {
   "cell_type": "code",
   "execution_count": 269,
   "id": "f43e3634",
   "metadata": {},
   "outputs": [],
   "source": [
    "app.delete(\"Seven\")"
   ]
  },
  {
   "cell_type": "code",
   "execution_count": 270,
   "id": "338f0b5b",
   "metadata": {},
   "outputs": [
    {
     "data": {
      "text/plain": [
       "'Not found!'"
      ]
     },
     "execution_count": 270,
     "metadata": {},
     "output_type": "execute_result"
    }
   ],
   "source": [
    "app.get(\"Seven\")"
   ]
  }
 ],
 "metadata": {
  "kernelspec": {
   "display_name": "Python 3 (ipykernel)",
   "language": "python",
   "name": "python3"
  },
  "language_info": {
   "codemirror_mode": {
    "name": "ipython",
    "version": 3
   },
   "file_extension": ".py",
   "mimetype": "text/x-python",
   "name": "python",
   "nbconvert_exporter": "python",
   "pygments_lexer": "ipython3",
   "version": "3.8.10"
  }
 },
 "nbformat": 4,
 "nbformat_minor": 5
}
