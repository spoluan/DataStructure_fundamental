{
 "cells": [
  {
   "cell_type": "markdown",
   "id": "38b5974c",
   "metadata": {},
   "source": [
    "# Linear search"
   ]
  },
  {
   "cell_type": "code",
   "execution_count": 26,
   "id": "ddcf7c52",
   "metadata": {},
   "outputs": [],
   "source": [
    "def linear_search(search, array): # O(n)\n",
    "    count = 0\n",
    "    for index, x in enumerate(array):\n",
    "        if search == x:\n",
    "            print(f\"Found {x} after {count} loops\")\n",
    "            break\n",
    "        count += 1"
   ]
  },
  {
   "cell_type": "code",
   "execution_count": 66,
   "id": "074ac390",
   "metadata": {},
   "outputs": [
    {
     "name": "stdout",
     "output_type": "stream",
     "text": [
      "Found 9999 after 9999 loops\n"
     ]
    }
   ],
   "source": [
    "search = 9999\n",
    "array = np.arange(0, 10000)\n",
    "linear_search(search, array)"
   ]
  },
  {
   "cell_type": "markdown",
   "id": "79ebbef7",
   "metadata": {},
   "source": [
    "# Binary search"
   ]
  },
  {
   "cell_type": "code",
   "execution_count": 61,
   "id": "0d4fdd41",
   "metadata": {},
   "outputs": [],
   "source": [
    "import numpy as np"
   ]
  },
  {
   "cell_type": "code",
   "execution_count": 21,
   "id": "928700ae",
   "metadata": {},
   "outputs": [],
   "source": [
    "def binary_search(search, array): # O(log n)\n",
    "    \n",
    "    start = 0\n",
    "    end = len(array)\n",
    "    count = 1\n",
    "    \n",
    "    while end > start:\n",
    "        print(f\"Finding at index {start} to {end} \", end=\"\")\n",
    "        mid = (start + end) // 2\n",
    "        \n",
    "        if array[mid] > search:\n",
    "            end = mid\n",
    "            print(\"not found\")\n",
    "        elif array[mid] < search:\n",
    "            start = mid\n",
    "            print(\"not found\")\n",
    "        elif search == array[mid]:\n",
    "            print(f\"\\n\\nFound {search} after {count} loops\")\n",
    "            break\n",
    "        count += 1"
   ]
  },
  {
   "cell_type": "code",
   "execution_count": 22,
   "id": "c59f156c",
   "metadata": {},
   "outputs": [],
   "source": [
    "def binary_search_recursive(search, array, count=0): # O(log n)\n",
    "    \n",
    "    count += 1\n",
    "    \n",
    "    if len(array) == 0:\n",
    "        return False\n",
    "    else:\n",
    "        mid = len(array) // 2\n",
    "        if search == array[mid]:\n",
    "            print(f\"Found {search} after {count} loops\")\n",
    "            return True\n",
    "        elif search > array[mid]:\n",
    "            binary_search_recursive(search, array[mid:], count)\n",
    "        elif search < array[mid]:\n",
    "            binary_search_recursive(search, array[:mid], count)"
   ]
  },
  {
   "cell_type": "code",
   "execution_count": 23,
   "id": "2875f253",
   "metadata": {
    "scrolled": false
   },
   "outputs": [
    {
     "name": "stdout",
     "output_type": "stream",
     "text": [
      "Finding at index 0 to 10000 not found\n",
      "Finding at index 0 to 5000 not found\n",
      "Finding at index 0 to 2500 not found\n",
      "Finding at index 0 to 1250 not found\n",
      "Finding at index 625 to 1250 not found\n",
      "Finding at index 625 to 937 not found\n",
      "Finding at index 625 to 781 not found\n",
      "Finding at index 703 to 781 not found\n",
      "Finding at index 742 to 781 not found\n",
      "Finding at index 761 to 781 not found\n",
      "Finding at index 761 to 771 not found\n",
      "Finding at index 766 to 771 not found\n",
      "Finding at index 766 to 768 \n",
      "\n",
      "Found 767 after 13 loops\n"
     ]
    }
   ],
   "source": [
    "array = np.arange(0, 10000)\n",
    "search = 767\n",
    "binary_search(search, array)"
   ]
  },
  {
   "cell_type": "code",
   "execution_count": 24,
   "id": "e898c367",
   "metadata": {},
   "outputs": [
    {
     "name": "stdout",
     "output_type": "stream",
     "text": [
      "Found 9999 after 14 loops\n"
     ]
    }
   ],
   "source": [
    "array = np.arange(0, 10000)\n",
    "search = 9999\n",
    "binary_search_recursive(search, array)"
   ]
  },
  {
   "cell_type": "markdown",
   "id": "ab2358e5",
   "metadata": {},
   "source": [
    "# Binary search tree"
   ]
  },
  {
   "cell_type": "code",
   "execution_count": 25,
   "id": "35dca02a",
   "metadata": {},
   "outputs": [],
   "source": [
    "class Node(object):\n",
    "    def __init__(self, val):\n",
    "        self.val = val\n",
    "        self.right = None\n",
    "        self.left = None"
   ]
  },
  {
   "cell_type": "code",
   "execution_count": 305,
   "id": "3fc4c7b1",
   "metadata": {},
   "outputs": [],
   "source": [
    "class BinarySearchTree(object):\n",
    "    def __init__(self):\n",
    "        self.root = None\n",
    "    \n",
    "    def insert(self, val): # O(log n)\n",
    "        node = Node(val)\n",
    "        \n",
    "        \n",
    "        if self.root is None:\n",
    "            self.root = node\n",
    "        else:\n",
    "            \n",
    "            temp = self.root\n",
    "            \n",
    "            while temp is not None: \n",
    " \n",
    "                if node.val < temp.val:\n",
    "                    \n",
    "                    # left\n",
    "                    if temp.left is None:\n",
    "                        temp.left = node \n",
    "                        break\n",
    "                    else:\n",
    "                        temp = temp.left\n",
    "                else:\n",
    "                    # right\n",
    "                    if temp.right is None:\n",
    "                        temp.right = node\n",
    "                        break\n",
    "                    else:\n",
    "                        temp = temp.right \n",
    "                        \n",
    "    def remove(self, root, val): \n",
    "        \n",
    "        \"\"\"\n",
    "            https://visualgo.net/en/bst?slide=3-4\n",
    "        \"\"\"\n",
    "        \n",
    "        if root is None:\n",
    "            return root\n",
    "\n",
    "        if val < root.val:\n",
    "            root.left = self.remove(root.left, val)\n",
    "        elif val > root.val:\n",
    "            root.right = self.remove(root.right, val)\n",
    "        else:\n",
    "            if root.left is None:\n",
    "                temp = root.right\n",
    "                root = None\n",
    "                return temp\n",
    "            \n",
    "            elif root.right is None:\n",
    "                temp = root.left\n",
    "                root = None\n",
    "                return temp\n",
    "\n",
    "            temp = root.right\n",
    "            while temp.left is not None:\n",
    "                temp = temp.left\n",
    "            \n",
    "            root.val = temp.val\n",
    "            root.right = self.remove(root.right, temp.val) \n",
    "        \n",
    "        return root\n",
    "\n",
    "                \n",
    "    def search(self, val): \n",
    "        \n",
    "        node = self.root\n",
    "        counter = 0\n",
    "        while node is not None:\n",
    "            counter += 1\n",
    "            if node.val == val:\n",
    "                print(f\"Found {val} after {counter} loops\")\n",
    "                return\n",
    "            elif val > node.val:\n",
    "                node = node.right\n",
    "            else:\n",
    "                node = node.left\n",
    "        \n",
    "        return \"Not found\"\n",
    "    \n",
    "    \n",
    "    def search_recursive(self, root, val, count=1):\n",
    "        count += 1\n",
    "        if root.val == val:\n",
    "            print(f\"Found {val} afer {count} loops\")\n",
    "            return\n",
    "\n",
    "        if val < root.val:\n",
    "            root = self.search_recursive(root.left, val, count)\n",
    "        else:\n",
    "            root = self.search_recursive(root.right, val, count)       \n",
    "             \n",
    "        return root\n",
    "    \n",
    "    def print_binary_search_tree(self, root, count=0): # O(n)\n",
    "        \n",
    "        count += 1\n",
    "        \n",
    "        if root is not None:\n",
    "            print(\"Found\", root.val, f\"after {count} loops\")\n",
    "            self.print_binary_search_tree(root.left, count)\n",
    "            self.print_binary_search_tree(root.right, count)\n",
    "         \n"
   ]
  },
  {
   "cell_type": "code",
   "execution_count": 306,
   "id": "cf5133b9",
   "metadata": {},
   "outputs": [],
   "source": [
    "app = BinarySearchTree()\n",
    "app.insert(9)\n",
    "app.insert(4)\n",
    "app.insert(20)\n",
    "app.insert(1)\n",
    "app.insert(6)\n",
    "app.insert(15)\n",
    "app.insert(170)"
   ]
  },
  {
   "cell_type": "code",
   "execution_count": 307,
   "id": "1d5d72fc",
   "metadata": {
    "scrolled": true
   },
   "outputs": [
    {
     "name": "stdout",
     "output_type": "stream",
     "text": [
      "Found 9 after 1 loops\n",
      "Found 4 after 2 loops\n",
      "Found 1 after 3 loops\n",
      "Found 6 after 3 loops\n",
      "Found 20 after 2 loops\n",
      "Found 15 after 3 loops\n",
      "Found 170 after 3 loops\n"
     ]
    }
   ],
   "source": [
    "app.print_binary_search_tree(app.root)"
   ]
  },
  {
   "cell_type": "code",
   "execution_count": 308,
   "id": "4d6ae126",
   "metadata": {},
   "outputs": [
    {
     "data": {
      "text/plain": [
       "'Not found'"
      ]
     },
     "execution_count": 308,
     "metadata": {},
     "output_type": "execute_result"
    }
   ],
   "source": [
    "app.search(36)"
   ]
  },
  {
   "cell_type": "code",
   "execution_count": 309,
   "id": "1a87355c",
   "metadata": {
    "scrolled": true
   },
   "outputs": [
    {
     "name": "stdout",
     "output_type": "stream",
     "text": [
      "Found 20 afer 3 loops\n"
     ]
    }
   ],
   "source": [
    "app.search_recursive(app.root, 20)"
   ]
  },
  {
   "cell_type": "code",
   "execution_count": 310,
   "id": "59548865",
   "metadata": {},
   "outputs": [
    {
     "data": {
      "text/plain": [
       "<__main__.Node at 0x7f37f02f89d0>"
      ]
     },
     "execution_count": 310,
     "metadata": {},
     "output_type": "execute_result"
    }
   ],
   "source": [
    "app.remove(app.root, 6)"
   ]
  },
  {
   "cell_type": "code",
   "execution_count": 311,
   "id": "dd931f68",
   "metadata": {},
   "outputs": [
    {
     "name": "stdout",
     "output_type": "stream",
     "text": [
      "Found 9 after 1 loops\n",
      "Found 4 after 2 loops\n",
      "Found 1 after 3 loops\n",
      "Found 20 after 2 loops\n",
      "Found 15 after 3 loops\n",
      "Found 170 after 3 loops\n"
     ]
    }
   ],
   "source": [
    "app.print_binary_search_tree(app.root)"
   ]
  },
  {
   "cell_type": "markdown",
   "id": "18e999c2",
   "metadata": {},
   "source": [
    "# Breadth First Search"
   ]
  },
  {
   "cell_type": "code",
   "execution_count": 100,
   "id": "0ce0a1c3",
   "metadata": {},
   "outputs": [],
   "source": [
    "class Node(object):\n",
    "    \n",
    "    def __init__(self, val):\n",
    "        \n",
    "        self.val = val\n",
    "        self.left = None\n",
    "        self.right = None"
   ]
  },
  {
   "cell_type": "code",
   "execution_count": 102,
   "id": "88013567",
   "metadata": {},
   "outputs": [],
   "source": [
    "class BreadthFirstSearch(object):\n",
    "    def __init__(self):\n",
    "        self.root = None\n",
    "        \n",
    "    def insert(self, val):\n",
    "        # new node\n",
    "        node = Node(val) \n",
    "        \n",
    "        if self.root == None:\n",
    "            self.root = node\n",
    "            \n",
    "        else: \n",
    "            \n",
    "            temp = self.root\n",
    "            while temp != None: \n",
    "                \n",
    "                if temp.val > node.val:\n",
    "                    if temp.left == None:\n",
    "                        temp.left = node\n",
    "                        break\n",
    "                    else:\n",
    "                        temp = temp.left\n",
    "                     \n",
    "                else:\n",
    "                    if temp.right == None:\n",
    "                        temp.right = node\n",
    "                        break\n",
    "                    else:\n",
    "                        temp = temp.right\n",
    "                 \n",
    "    \n",
    "    def show(self):  \n",
    "        lists = []\n",
    "        \n",
    "        if self.root != None:\n",
    "            queue = [self.root]\n",
    "\n",
    "            while len(queue) > 0:\n",
    "                current = queue.pop(0)\n",
    "                lists.append(current.val)\n",
    "                if current.left != None:\n",
    "                    queue.append(current.left)\n",
    "                if current.right != None:\n",
    "                    queue.append(current.right)\n",
    "            print(lists)\n",
    "        else:\n",
    "            print(\"Empty!\")\n",
    "            \n",
    "    \n",
    "    def show_recursive(self, queue, lists, search):\n",
    "        if len(queue) == 0:\n",
    "            return lists\n",
    "        else:\n",
    "            current = queue.pop(0)\n",
    "            lists.append(current.val)\n",
    "            if current.left != None:\n",
    "                queue.append(current.left)\n",
    "            if current.right != None:\n",
    "                queue.append(current.right)\n",
    "            return self.show_recursive(queue, lists, search)\n",
    "          \n",
    "    def search(self, search): # O(log n)\n",
    "        \n",
    "        if self.root != None:\n",
    "            queue = [self.root]\n",
    "            \n",
    "            count = 1\n",
    "            while len(queue) > 0:\n",
    "                current = queue.pop(0)\n",
    "                \n",
    "                if search == current.val:\n",
    "                    print(f\"Found {search} after {count} loops\")\n",
    "                    break\n",
    "                \n",
    "                if current.left != None:\n",
    "                    queue.append(current.left)\n",
    "                if current.right != None:\n",
    "                    queue.append(current.right)\n",
    "                    \n",
    "                count += 1\n",
    "        else:\n",
    "            print(\"Empty!\") \n",
    "    \n",
    "    "
   ]
  },
  {
   "cell_type": "code",
   "execution_count": 103,
   "id": "912bc9ad",
   "metadata": {},
   "outputs": [],
   "source": [
    "bs = BreadthFirstSearch()\n",
    "bs.insert(9)\n",
    "bs.insert(4)\n",
    "bs.insert(20)\n",
    "bs.insert(1)\n",
    "bs.insert(6)\n",
    "bs.insert(15)\n",
    "bs.insert(170)"
   ]
  },
  {
   "cell_type": "code",
   "execution_count": 104,
   "id": "7fc66358",
   "metadata": {
    "scrolled": true
   },
   "outputs": [
    {
     "name": "stdout",
     "output_type": "stream",
     "text": [
      "[9, 4, 20, 1, 6, 15, 170]\n"
     ]
    }
   ],
   "source": [
    "bs.show()"
   ]
  },
  {
   "cell_type": "code",
   "execution_count": 105,
   "id": "3138c673",
   "metadata": {},
   "outputs": [
    {
     "name": "stdout",
     "output_type": "stream",
     "text": [
      "Found 6 after 5 loops\n"
     ]
    }
   ],
   "source": [
    "bs.search(6)"
   ]
  },
  {
   "cell_type": "code",
   "execution_count": 106,
   "id": "74785ae4",
   "metadata": {},
   "outputs": [
    {
     "data": {
      "text/plain": [
       "[9, 4, 20, 1, 6, 15, 170]"
      ]
     },
     "execution_count": 106,
     "metadata": {},
     "output_type": "execute_result"
    }
   ],
   "source": [
    "bs.show_recursive([bs.root], [], 6)"
   ]
  },
  {
   "cell_type": "markdown",
   "id": "5c313233",
   "metadata": {},
   "source": [
    "# Depth First Search"
   ]
  },
  {
   "cell_type": "code",
   "execution_count": 107,
   "id": "b8b66811",
   "metadata": {},
   "outputs": [],
   "source": [
    "class Node(object):\n",
    "    \n",
    "    def __init__(self, val):\n",
    "        \n",
    "        self.val = val\n",
    "        self.right = None\n",
    "        self.left = None"
   ]
  },
  {
   "cell_type": "code",
   "execution_count": 130,
   "id": "8051394f",
   "metadata": {},
   "outputs": [],
   "source": [
    "class DepthFirstSearch(object): # O(n)\n",
    "    def __init__(self):\n",
    "        self.root = None\n",
    "        \n",
    "    def insert(self, val):\n",
    "        \n",
    "        node = Node(val)\n",
    "        \n",
    "        if self.root is None:\n",
    "            self.root = node\n",
    "        else:\n",
    "            temp = self.root\n",
    "            while(temp is not None):\n",
    "                \n",
    "                if temp.val > node.val:\n",
    "                    if temp.left is None:\n",
    "                        temp.left = node\n",
    "                        break\n",
    "                    else:\n",
    "                        temp = temp.left\n",
    "                else:\n",
    "                    if temp.right is None:\n",
    "                        temp.right = node\n",
    "                        break\n",
    "                        \n",
    "                    else:\n",
    "                        temp = temp.right\n",
    "    \n",
    "    def show_in_order(self, node, lists):\n",
    "        \n",
    "        print(\"log: \", node.val) \n",
    "        if node.left is not None:\n",
    "            self.show_in_order(node.left, lists)\n",
    "        lists.append(node.val)\n",
    "        if node.right is not None:\n",
    "            self.show_in_order(node.right, lists)\n",
    "        return lists\n",
    "    \n",
    "    def show_pre_order(self, node, lists): \n",
    "        print(\"log: \", node.val) \n",
    "        lists.append(node.val)\n",
    "        if node.left is not None:\n",
    "            self.show_pre_order(node.left, lists) \n",
    "        if node.right is not None:\n",
    "            self.show_pre_order(node.right, lists)\n",
    "        return lists\n",
    "    \n",
    "    def show_post_order(self, node, lists): \n",
    "        print(\"log: \", node.val)  \n",
    "        if node.left is not None:\n",
    "            self.show_post_order(node.left, lists) \n",
    "        if node.right is not None:\n",
    "            self.show_post_order(node.right, lists)\n",
    "        lists.append(node.val)\n",
    "        return lists\n",
    "            "
   ]
  },
  {
   "cell_type": "code",
   "execution_count": 131,
   "id": "20dce54d",
   "metadata": {},
   "outputs": [],
   "source": [
    "bs = DepthFirstSearch()\n",
    "bs.insert(9)\n",
    "bs.insert(4)\n",
    "bs.insert(20)\n",
    "bs.insert(1)\n",
    "bs.insert(6)\n",
    "bs.insert(15)\n",
    "bs.insert(170)"
   ]
  },
  {
   "cell_type": "code",
   "execution_count": 132,
   "id": "e34e07b2",
   "metadata": {},
   "outputs": [
    {
     "name": "stdout",
     "output_type": "stream",
     "text": [
      "log:  9\n",
      "log:  4\n",
      "log:  1\n",
      "log:  6\n",
      "log:  20\n",
      "log:  15\n",
      "log:  170\n"
     ]
    },
    {
     "data": {
      "text/plain": [
       "[1, 4, 6, 9, 15, 20, 170]"
      ]
     },
     "execution_count": 132,
     "metadata": {},
     "output_type": "execute_result"
    }
   ],
   "source": [
    "bs.show_in_order(bs.root, [])"
   ]
  },
  {
   "cell_type": "code",
   "execution_count": 133,
   "id": "fb1e2f72",
   "metadata": {
    "scrolled": true
   },
   "outputs": [
    {
     "name": "stdout",
     "output_type": "stream",
     "text": [
      "log:  9\n",
      "log:  4\n",
      "log:  1\n",
      "log:  6\n",
      "log:  20\n",
      "log:  15\n",
      "log:  170\n"
     ]
    },
    {
     "data": {
      "text/plain": [
       "[9, 4, 1, 6, 20, 15, 170]"
      ]
     },
     "execution_count": 133,
     "metadata": {},
     "output_type": "execute_result"
    }
   ],
   "source": [
    "bs.show_pre_order(bs.root, [])"
   ]
  },
  {
   "cell_type": "code",
   "execution_count": 134,
   "id": "099a322c",
   "metadata": {},
   "outputs": [
    {
     "name": "stdout",
     "output_type": "stream",
     "text": [
      "log:  9\n",
      "log:  4\n",
      "log:  1\n",
      "log:  6\n",
      "log:  20\n",
      "log:  15\n",
      "log:  170\n"
     ]
    },
    {
     "data": {
      "text/plain": [
       "[1, 6, 4, 15, 170, 20, 9]"
      ]
     },
     "execution_count": 134,
     "metadata": {},
     "output_type": "execute_result"
    }
   ],
   "source": [
    "bs.show_post_order(bs.root, [])"
   ]
  },
  {
   "cell_type": "markdown",
   "id": "d4e40e5c",
   "metadata": {},
   "source": [
    "# Hash Table"
   ]
  },
  {
   "cell_type": "code",
   "execution_count": 266,
   "id": "9c83e835",
   "metadata": {},
   "outputs": [],
   "source": [
    "class HashTable(object): # O(1)\n",
    "    \n",
    "    def __init__(self):\n",
    "        \n",
    "        self.data = {}\n",
    "        self.length = 0\n",
    "        \n",
    "    def hash(self, key):\n",
    "        \n",
    "        hash = 0\n",
    "        for i, x in enumerate(key):\n",
    "            hash += ord(x) * i + len(key)\n",
    "        \n",
    "        return hash\n",
    "    \n",
    "    def set(self, key, val):\n",
    "        self.data[self.hash(key)] = val\n",
    "        self.length += 1\n",
    "        \n",
    "    def get(self, key):\n",
    "        key = self.hash(key)\n",
    "        return self.data[key] if key in self.data else \"Not found!\"\n",
    "    \n",
    "    def delete(self, key):\n",
    "        key = self.hash(key)\n",
    "        del self.data[key]\n",
    "        "
   ]
  },
  {
   "cell_type": "code",
   "execution_count": 267,
   "id": "10d7f6bd",
   "metadata": {},
   "outputs": [],
   "source": [
    "app = HashTable()\n",
    "app.set(\"seven\", 9)\n",
    "app.set(\"seVen\", 7)\n",
    "app.set(\"sEven\", 34)\n",
    "app.set(\"Seven\", 5656)"
   ]
  },
  {
   "cell_type": "code",
   "execution_count": 268,
   "id": "e7b8b257",
   "metadata": {
    "scrolled": true
   },
   "outputs": [
    {
     "data": {
      "text/plain": [
       "5656"
      ]
     },
     "execution_count": 268,
     "metadata": {},
     "output_type": "execute_result"
    }
   ],
   "source": [
    "app.get(\"Seven\")"
   ]
  },
  {
   "cell_type": "code",
   "execution_count": 269,
   "id": "f43e3634",
   "metadata": {},
   "outputs": [],
   "source": [
    "app.delete(\"Seven\")"
   ]
  },
  {
   "cell_type": "code",
   "execution_count": 270,
   "id": "338f0b5b",
   "metadata": {},
   "outputs": [
    {
     "data": {
      "text/plain": [
       "'Not found!'"
      ]
     },
     "execution_count": 270,
     "metadata": {},
     "output_type": "execute_result"
    }
   ],
   "source": [
    "app.get(\"Seven\")"
   ]
  }
 ],
 "metadata": {
  "kernelspec": {
   "display_name": "Python 3 (ipykernel)",
   "language": "python",
   "name": "python3"
  },
  "language_info": {
   "codemirror_mode": {
    "name": "ipython",
    "version": 3
   },
   "file_extension": ".py",
   "mimetype": "text/x-python",
   "name": "python",
   "nbconvert_exporter": "python",
   "pygments_lexer": "ipython3",
   "version": "3.8.10"
  }
 },
 "nbformat": 4,
 "nbformat_minor": 5
}
