{
 "cells": [
  {
   "cell_type": "markdown",
   "id": "6d76e83d",
   "metadata": {},
   "source": [
    "# Fibonacci"
   ]
  },
  {
   "cell_type": "code",
   "execution_count": 40,
   "id": "48b6f2bb",
   "metadata": {},
   "outputs": [],
   "source": [
    "class Fibonacci(object):\n",
    "    \n",
    "    def __init__(self):\n",
    "        self.count = 0\n",
    "        self.cache = {}\n",
    "        \n",
    "    def fibonacci(self, n): # O(2^n)\n",
    "        self.count += 1\n",
    "        if n < 2: \n",
    "            return n \n",
    "        return self.fibonacci(n - 1) + self.fibonacci(n - 2)\n",
    "    \n",
    "    def fibonacci_dynamic_programing(self, n): # O(n) \n",
    "        self.count += 1\n",
    "        if n in self.cache:\n",
    "            return self.cache[n]\n",
    "        else:\n",
    "            if n < 2:\n",
    "                return n\n",
    "            else:\n",
    "                self.cache[n] = self.fibonacci_dynamic_programing(n - 1) + self.fibonacci_dynamic_programing(n - 2)\n",
    "                return self.cache[n]\n",
    "        "
   ]
  },
  {
   "cell_type": "code",
   "execution_count": 41,
   "id": "c3545911",
   "metadata": {},
   "outputs": [
    {
     "name": "stdout",
     "output_type": "stream",
     "text": [
      "Fibonaci of 9 is 34, found after 109 loops.\n"
     ]
    }
   ],
   "source": [
    "fib = Fibonacci()\n",
    "find = 9\n",
    "fib.count = 0\n",
    "print(f\"Fibonaci of {find} is {fib.fibonacci(find)}, found after {fib.count} loops.\")"
   ]
  },
  {
   "cell_type": "code",
   "execution_count": 42,
   "id": "2fba3648",
   "metadata": {},
   "outputs": [
    {
     "name": "stdout",
     "output_type": "stream",
     "text": [
      "Fibonaci of 9 is 34, found after 17 loops.\n"
     ]
    }
   ],
   "source": [
    "fib.count = 0\n",
    "print(f\"Fibonaci of {find} is {fib.fibonacci_dynamic_programing(find)}, found after {fib.count} loops.\")"
   ]
  },
  {
   "cell_type": "code",
   "execution_count": 44,
   "id": "97b7818e",
   "metadata": {},
   "outputs": [],
   "source": [
    "fibs = [0, 1]\n",
    "for x in range(50):\n",
    "    fibs.append(fibs[-1] + fibs[-2])"
   ]
  },
  {
   "cell_type": "code",
   "execution_count": 47,
   "id": "b9cd7203",
   "metadata": {
    "scrolled": true
   },
   "outputs": [
    {
     "data": {
      "text/plain": [
       "34"
      ]
     },
     "execution_count": 47,
     "metadata": {},
     "output_type": "execute_result"
    }
   ],
   "source": [
    "fibs[9]"
   ]
  },
  {
   "cell_type": "markdown",
   "id": "bcad516a",
   "metadata": {},
   "source": [
    "# House Robber\n",
    "\n",
    "#### https://leetcode.com/problems/house-robber/"
   ]
  },
  {
   "cell_type": "code",
   "execution_count": 110,
   "id": "036ab3d4",
   "metadata": {},
   "outputs": [],
   "source": [
    "def rob(nums):\n",
    "    if len(nums) == 0:\n",
    "        return 0\n",
    "    elif len(nums) == 1:\n",
    "        return nums[0]\n",
    "    else:\n",
    "        hold = {\n",
    "            \"prev\": nums[0],\n",
    "            \"current\": max(nums[:2])\n",
    "        } \n",
    "        for num in nums[2:]:  \n",
    "            hold[\"prev\"], hold[\"current\"] = hold[\"current\"], max(hold[\"prev\"] + num, hold[\"current\"])\n",
    "        return hold[\"current\"]"
   ]
  },
  {
   "cell_type": "code",
   "execution_count": 109,
   "id": "0e0f765f",
   "metadata": {},
   "outputs": [
    {
     "data": {
      "text/plain": [
       "12"
      ]
     },
     "execution_count": 109,
     "metadata": {},
     "output_type": "execute_result"
    }
   ],
   "source": [
    "nums = [2,7,9,3,1] # [4,1,2] # [1, 3, 3, 4, 4, 5, 5, 6, 12] # 25\n",
    "rob(nums)"
   ]
  },
  {
   "cell_type": "markdown",
   "id": "7e7aba40",
   "metadata": {},
   "source": [
    "# Best time to Buy and Sell Stock\n",
    "\n",
    "#### https://leetcode.com/problems/best-time-to-buy-and-sell-stock/"
   ]
  },
  {
   "cell_type": "code",
   "execution_count": 116,
   "id": "4698afcb",
   "metadata": {},
   "outputs": [],
   "source": [
    "def max_profit(prices):\n",
    "    minimum_price = prices[0]\n",
    "    total_profit = 0\n",
    "    for x in prices[1:]:\n",
    "        if x < minimum_price: minimum_price = x\n",
    "        else: total_profit = max(total_profit, x - minimum_price)\n",
    "    return total_profit"
   ]
  },
  {
   "cell_type": "code",
   "execution_count": 115,
   "id": "a48755e2",
   "metadata": {},
   "outputs": [
    {
     "data": {
      "text/plain": [
       "0"
      ]
     },
     "execution_count": 115,
     "metadata": {},
     "output_type": "execute_result"
    }
   ],
   "source": [
    "case1 = [7,6,4,3,1]\n",
    "case2 = [7,1,5,3,6,4]\n",
    "max_profit(case1)"
   ]
  },
  {
   "cell_type": "markdown",
   "id": "2ddb3fef",
   "metadata": {},
   "source": [
    "# Climbing Stairs\n",
    "\n",
    "#### https://leetcode.com/problems/climbing-stairs/"
   ]
  },
  {
   "cell_type": "code",
   "execution_count": 124,
   "id": "a846262f",
   "metadata": {},
   "outputs": [],
   "source": [
    "def climb_stairs(n):\n",
    "    if n == 1:\n",
    "        return 1\n",
    "    else:\n",
    "        first, second = 1, 2\n",
    "        for x in range(3, n + 1):\n",
    "            first, second = second, second + first\n",
    "        return second"
   ]
  },
  {
   "cell_type": "code",
   "execution_count": 125,
   "id": "32c554ef",
   "metadata": {
    "scrolled": true
   },
   "outputs": [
    {
     "data": {
      "text/plain": [
       "8"
      ]
     },
     "execution_count": 125,
     "metadata": {},
     "output_type": "execute_result"
    }
   ],
   "source": [
    "climb_stairs(5)"
   ]
  }
 ],
 "metadata": {
  "kernelspec": {
   "display_name": "Python 3 (ipykernel)",
   "language": "python",
   "name": "python3"
  },
  "language_info": {
   "codemirror_mode": {
    "name": "ipython",
    "version": 3
   },
   "file_extension": ".py",
   "mimetype": "text/x-python",
   "name": "python",
   "nbconvert_exporter": "python",
   "pygments_lexer": "ipython3",
   "version": "3.8.10"
  }
 },
 "nbformat": 4,
 "nbformat_minor": 5
}
