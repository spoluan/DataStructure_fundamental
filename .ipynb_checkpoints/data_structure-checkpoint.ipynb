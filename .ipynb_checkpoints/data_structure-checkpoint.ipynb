{
 "cells": [
  {
   "cell_type": "markdown",
   "id": "e5972a1d",
   "metadata": {},
   "source": [
    "# Stack"
   ]
  },
  {
   "cell_type": "code",
   "execution_count": 375,
   "id": "d933908f",
   "metadata": {},
   "outputs": [],
   "source": [
    "class Node(object):\n",
    "    def __init__(self, val):\n",
    "        self.val = val\n",
    "        self.prev = None"
   ]
  },
  {
   "cell_type": "code",
   "execution_count": 408,
   "id": "4c767b23",
   "metadata": {},
   "outputs": [],
   "source": [
    "class Stack(object):\n",
    "    def __init__(self):\n",
    "        self.top = None\n",
    "        self.length = 0\n",
    "    \n",
    "    def push(self, val): # O(1)\n",
    "        node = Node(val)\n",
    "        if self.top == None:\n",
    "            self.top = node\n",
    "        else:\n",
    "            node.prev = self.top\n",
    "            self.top = node\n",
    "        self.length += 1\n",
    "    \n",
    "    def pop(self): # O(1)\n",
    "        if self.top is not None:\n",
    "            self.top = self.top.prev\n",
    "            self.length -= 1\n",
    "        else:\n",
    "            print(\"Empty!\")\n",
    "            \n",
    "    def peek(self): # O(1)\n",
    "        if self.top is not None:\n",
    "            print(\"Peek: \", self.top.val)\n",
    "        else:\n",
    "            print(\"Empty\")\n",
    "            \n",
    "    def print_stack(self): # O(n)\n",
    "        counter = 0\n",
    "        array = []\n",
    "        temp = self.top\n",
    "        while temp is not None:\n",
    "            array.append(temp.val)\n",
    "            temp = temp.prev\n",
    "        return \"TOP\", array\n"
   ]
  },
  {
   "cell_type": "code",
   "execution_count": 409,
   "id": "6e063384",
   "metadata": {},
   "outputs": [],
   "source": [
    "app = Stack()\n",
    "app.push(5)\n",
    "app.push(6)\n",
    "app.push(3)\n",
    "app.push(7)"
   ]
  },
  {
   "cell_type": "code",
   "execution_count": 410,
   "id": "fa5a93ef",
   "metadata": {},
   "outputs": [
    {
     "data": {
      "text/plain": [
       "('TOP', [7, 3, 6, 5])"
      ]
     },
     "execution_count": 410,
     "metadata": {},
     "output_type": "execute_result"
    }
   ],
   "source": [
    "app.print_stack()"
   ]
  },
  {
   "cell_type": "code",
   "execution_count": 411,
   "id": "7477fbc9",
   "metadata": {},
   "outputs": [],
   "source": [
    "app.pop()\n",
    "app.pop()"
   ]
  },
  {
   "cell_type": "code",
   "execution_count": 412,
   "id": "62fa2dff",
   "metadata": {},
   "outputs": [
    {
     "data": {
      "text/plain": [
       "('TOP', [6, 5])"
      ]
     },
     "execution_count": 412,
     "metadata": {},
     "output_type": "execute_result"
    }
   ],
   "source": [
    "app.print_stack()"
   ]
  },
  {
   "cell_type": "code",
   "execution_count": 413,
   "id": "013539a6",
   "metadata": {
    "scrolled": true
   },
   "outputs": [
    {
     "name": "stdout",
     "output_type": "stream",
     "text": [
      "Peek:  6\n"
     ]
    }
   ],
   "source": [
    "app.peek()"
   ]
  },
  {
   "cell_type": "markdown",
   "id": "efd0fc1e",
   "metadata": {},
   "source": [
    "# Queue"
   ]
  },
  {
   "cell_type": "code",
   "execution_count": 414,
   "id": "cfdf9ac6",
   "metadata": {},
   "outputs": [],
   "source": [
    "class Node(object):\n",
    "    def __init__(self, val):\n",
    "        self.val = val\n",
    "        self.next = None"
   ]
  },
  {
   "cell_type": "code",
   "execution_count": 452,
   "id": "4364adc0",
   "metadata": {},
   "outputs": [],
   "source": [
    "class Queue(object):\n",
    "    \n",
    "    def __init__(self):\n",
    "        self.head = None\n",
    "        self.tail = None\n",
    "        self.length = 0\n",
    "    \n",
    "    def add(self, val): # O(1)\n",
    "        node = Node(val)\n",
    "        if self.tail is None and self.head is None:\n",
    "            self.tail = self.head = node\n",
    "        else:\n",
    "            self.tail.next = node\n",
    "            self.tail = node\n",
    "    \n",
    "    def dequeue(self): # O(1)\n",
    "        if self.head is not None:\n",
    "            self.head = self.head.next\n",
    "        else:\n",
    "            print('Empty!')\n",
    "    \n",
    "    def print_queue(self): # O(n)\n",
    "        counter = 0\n",
    "        array = []\n",
    "        temp = self.head\n",
    "        while temp is not None:\n",
    "            array.append(temp.val)\n",
    "            temp = temp.next\n",
    "        return \"HEAD\", array, \"TAIL\""
   ]
  },
  {
   "cell_type": "code",
   "execution_count": 444,
   "id": "d2774120",
   "metadata": {},
   "outputs": [],
   "source": [
    "app = Queue()\n",
    "app.add(34)\n",
    "app.add(3)\n",
    "app.add(7)\n",
    "app.add(76)\n",
    "app.add(4)"
   ]
  },
  {
   "cell_type": "code",
   "execution_count": 445,
   "id": "b2fbdc54",
   "metadata": {
    "scrolled": true
   },
   "outputs": [
    {
     "data": {
      "text/plain": [
       "('HEAD', [34, 3, 7, 76, 4], 'TAIL')"
      ]
     },
     "execution_count": 445,
     "metadata": {},
     "output_type": "execute_result"
    }
   ],
   "source": [
    "app.print_queue()"
   ]
  },
  {
   "cell_type": "code",
   "execution_count": 446,
   "id": "379d285f",
   "metadata": {},
   "outputs": [],
   "source": [
    "app.dequeue()"
   ]
  },
  {
   "cell_type": "code",
   "execution_count": 447,
   "id": "c5535ba4",
   "metadata": {},
   "outputs": [
    {
     "data": {
      "text/plain": [
       "('HEAD', [3, 7, 76, 4], 'TAIL')"
      ]
     },
     "execution_count": 447,
     "metadata": {},
     "output_type": "execute_result"
    }
   ],
   "source": [
    "app.print_queue()"
   ]
  },
  {
   "cell_type": "code",
   "execution_count": 448,
   "id": "ae5c1ea4",
   "metadata": {},
   "outputs": [],
   "source": [
    "app.add(64)\n",
    "app.add(45)\n",
    "app.add(4)"
   ]
  },
  {
   "cell_type": "code",
   "execution_count": 449,
   "id": "f8b3d423",
   "metadata": {},
   "outputs": [
    {
     "data": {
      "text/plain": [
       "('HEAD', [3, 7, 76, 4, 64, 45, 4], 'TAIL')"
      ]
     },
     "execution_count": 449,
     "metadata": {},
     "output_type": "execute_result"
    }
   ],
   "source": [
    "app.print_queue()"
   ]
  },
  {
   "cell_type": "markdown",
   "id": "0a14eb6c",
   "metadata": {},
   "source": [
    "# Linked list"
   ]
  },
  {
   "cell_type": "code",
   "execution_count": 105,
   "id": "17c806a1",
   "metadata": {},
   "outputs": [],
   "source": [
    "class Node(object):\n",
    "    def __init__(self, val):\n",
    "        self.val = val\n",
    "        self.next = None"
   ]
  },
  {
   "cell_type": "code",
   "execution_count": 367,
   "id": "476494e6",
   "metadata": {},
   "outputs": [],
   "source": [
    "class LinkedList(object):\n",
    "    \n",
    "    def __init__(self):\n",
    "        self.head = None\n",
    "        self.tail = None\n",
    "        self.length = 0\n",
    "    \n",
    "    def append(self, val): # O(1)\n",
    "        node = Node(val)\n",
    "        \n",
    "        if self.head is None and self.tail is None:\n",
    "            self.head = self.tail = node\n",
    "        else:\n",
    "            node.next = self.head\n",
    "            self.head = node\n",
    "        self.length += 1\n",
    "    \n",
    "    def prepend(self, val): # O(1)\n",
    "        \n",
    "        node = Node(val)\n",
    "        \n",
    "        if self.head is None and self.tail is None:\n",
    "            self.head = self.tail = node\n",
    "        else:\n",
    "            self.tail.next = node\n",
    "            self.tail = node\n",
    "            \n",
    "        self.length += 1\n",
    "            \n",
    "    def insert(self, index, val): # O(n)\n",
    "        node = Node(val)\n",
    "        \n",
    "        if index == 0:\n",
    "            self.append(val)            \n",
    "        elif index == self.length - 1:\n",
    "            self.prepend(val)\n",
    "        elif index < self.length:\n",
    "            temp = self.head\n",
    "            counter = 0               \n",
    "            while counter < index - 1: \n",
    "                temp = temp.next     \n",
    "                counter += 1 \n",
    "            node.next = temp.next\n",
    "            temp.next = node  \n",
    "            self.length += 1\n",
    "        else:\n",
    "            print(\"Array index out of range!\")  \n",
    "            \n",
    "    def print_linked_list(self): # O(n)\n",
    "        node = self.head\n",
    "        values = []\n",
    "        while node != None:\n",
    "            values.append(node.val)\n",
    "            node = node.next\n",
    "        return \"HEAD\", values, \"TAIL\"\n",
    "    \n",
    "    def delete(self, index): \n",
    "        if index == 0: # O(1)\n",
    "            self.head = self.head.next\n",
    "            self.length -= 1\n",
    "        elif index < self.length: # O(n)\n",
    "            temp = self.head\n",
    "            counter = 0\n",
    "            while counter < index - 1: \n",
    "                temp = temp.next\n",
    "                counter += 1 \n",
    "            if index == self.length - 1:\n",
    "                self.tail = temp.next\n",
    "                temp.next = None\n",
    "            else:\n",
    "                temp.next = temp.next.next\n",
    "            self.length -= 1\n",
    "        else:\n",
    "            print(\"Array index out of range!\")\n",
    "            \n",
    "    def reverse(self): # O(n)\n",
    "        self.tail = self.head \n",
    "        first = self.head\n",
    "        second = first.next\n",
    "        \n",
    "        while second != None:\n",
    "            temp = second.next\n",
    "            second.next = first\n",
    "            first = second\n",
    "            second = temp\n",
    "        \n",
    "        self.head.next = None\n",
    "        self.head = first\n",
    "            \n",
    "        "
   ]
  },
  {
   "cell_type": "code",
   "execution_count": 368,
   "id": "bec3dc6d",
   "metadata": {},
   "outputs": [
    {
     "data": {
      "text/plain": [
       "('HEAD', [6, 5, 6, 5, 5, 6, 6, 4, 35, 3, 353, 7, 7, 7, 6], 'TAIL')"
      ]
     },
     "execution_count": 368,
     "metadata": {},
     "output_type": "execute_result"
    }
   ],
   "source": [
    "app = LinkedList()\n",
    "app.append(3)\n",
    "app.append(35)\n",
    "app.append(4)\n",
    "app.prepend(353)\n",
    "app.prepend(7)\n",
    "app.append(5)\n",
    "app.append(5)\n",
    "app.append(5)\n",
    "app.prepend(7)\n",
    "app.prepend(7)\n",
    "app.insert(3, 6)\n",
    "app.insert(3, 6)\n",
    "app.insert(1, 6)\n",
    "app.insert(0, 6)\n",
    "app.insert(13, 6)\n",
    "app.print_linked_list()"
   ]
  },
  {
   "cell_type": "code",
   "execution_count": 369,
   "id": "8261e954",
   "metadata": {},
   "outputs": [
    {
     "data": {
      "text/plain": [
       "('HEAD', [5, 6, 5, 5, 6, 6, 4, 35, 3, 353, 7, 7, 7, 6], 'TAIL')"
      ]
     },
     "execution_count": 369,
     "metadata": {},
     "output_type": "execute_result"
    }
   ],
   "source": [
    "app.delete(0)\n",
    "app.print_linked_list()"
   ]
  },
  {
   "cell_type": "code",
   "execution_count": 370,
   "id": "7e8c907f",
   "metadata": {
    "scrolled": false
   },
   "outputs": [
    {
     "name": "stdout",
     "output_type": "stream",
     "text": [
      "Array index out of range!\n"
     ]
    },
    {
     "data": {
      "text/plain": [
       "('HEAD', [5, 6, 5, 5, 6, 6, 4, 35, 3, 353, 7, 7, 7, 6], 'TAIL')"
      ]
     },
     "execution_count": 370,
     "metadata": {},
     "output_type": "execute_result"
    }
   ],
   "source": [
    "app.delete(14)\n",
    "app.print_linked_list()"
   ]
  },
  {
   "cell_type": "code",
   "execution_count": 371,
   "id": "dde80265",
   "metadata": {},
   "outputs": [
    {
     "data": {
      "text/plain": [
       "5"
      ]
     },
     "execution_count": 371,
     "metadata": {},
     "output_type": "execute_result"
    }
   ],
   "source": [
    "app.head.val"
   ]
  },
  {
   "cell_type": "code",
   "execution_count": 372,
   "id": "be1f3243",
   "metadata": {},
   "outputs": [
    {
     "data": {
      "text/plain": [
       "6"
      ]
     },
     "execution_count": 372,
     "metadata": {},
     "output_type": "execute_result"
    }
   ],
   "source": [
    "app.tail.val"
   ]
  },
  {
   "cell_type": "code",
   "execution_count": 373,
   "id": "45dda0dc",
   "metadata": {},
   "outputs": [],
   "source": [
    "app.reverse()"
   ]
  },
  {
   "cell_type": "code",
   "execution_count": 374,
   "id": "3f4c512e",
   "metadata": {},
   "outputs": [
    {
     "data": {
      "text/plain": [
       "('HEAD', [6, 7, 7, 7, 353, 3, 35, 4, 6, 6, 5, 5, 6, 5], 'TAIL')"
      ]
     },
     "execution_count": 374,
     "metadata": {},
     "output_type": "execute_result"
    }
   ],
   "source": [
    "app.print_linked_list()"
   ]
  },
  {
   "cell_type": "markdown",
   "id": "14038821",
   "metadata": {},
   "source": [
    "# Doubly Linked List"
   ]
  },
  {
   "cell_type": "code",
   "execution_count": 142,
   "id": "8eeb55b3",
   "metadata": {},
   "outputs": [],
   "source": [
    "class Node(object):\n",
    "    def __init__(self, val):\n",
    "        self.val = val\n",
    "        self.next = None\n",
    "        self.prev = None"
   ]
  },
  {
   "cell_type": "code",
   "execution_count": 289,
   "id": "4ada4547",
   "metadata": {},
   "outputs": [],
   "source": [
    "class DoubleLinkedList(object):\n",
    "    \n",
    "    def __init__(self):\n",
    "        self.head = None\n",
    "        self.tail = None\n",
    "        self.length = 0\n",
    "    \n",
    "    def append(self, val): # O(1)\n",
    "        node = Node(val)\n",
    "        \n",
    "        if self.head == None and self.tail == None:\n",
    "            self.head = self.tail = node\n",
    "        else:\n",
    "            node.next = self.head\n",
    "            self.head.prev = node\n",
    "            self.head = node\n",
    "            \n",
    "        self.length += 1\n",
    "        \n",
    "    def prepend(self, val): # O(1)\n",
    "        node = Node(val)\n",
    "        \n",
    "        if self.head == None and self.tail == None:\n",
    "            self.head = self.tail = node\n",
    "        else:\n",
    "            node.prev = self.tail\n",
    "            self.tail.next = node\n",
    "            self.tail = node\n",
    "        self.length += 1\n",
    "        \n",
    "    def insert_start_from_head(self, index, val): # O(n)\n",
    "        node = Node(val)\n",
    "        if index == 0:\n",
    "            self.append(val)\n",
    "        elif index == self.length - 1:\n",
    "            self.preprend(val)\n",
    "        elif index < self.length:\n",
    "            temp = self.head\n",
    "            counter = 0\n",
    "            while counter < index - 1:\n",
    "                temp = temp.next\n",
    "                counter += 1\n",
    "            node.next = temp.next \n",
    "            node.prev = temp.next.prev\n",
    "            temp.next.prev = node\n",
    "            temp.next = node\n",
    "            \n",
    "            self.length += 1\n",
    "            \n",
    "        else:\n",
    "            print(\"Index out of range!\")\n",
    "            \n",
    "    def insert_start_from_tail(self, index, val):\n",
    "        node = Node(val)\n",
    "        \n",
    "        if index == 0:\n",
    "            self.prepend(val)\n",
    "        elif index == self.length - 1:\n",
    "            self.append(val)\n",
    "        elif index < self.length:\n",
    "            temp = self.tail\n",
    "            counter = 0\n",
    "            while counter < index - 1: \n",
    "                temp = temp.prev\n",
    "                counter += 1 \n",
    "            node.prev = temp.prev\n",
    "            node.next = temp.prev.next\n",
    "            temp.prev.next = node\n",
    "            temp.prev = node\n",
    "        else:\n",
    "            prin(\"Index out of range!\")\n",
    "            \n",
    "    def delete_from_head(self, index):\n",
    "        if self.head == None and self.tail == None:\n",
    "            print(\"Empty!\")\n",
    "        \n",
    "        if index == 0:\n",
    "            self.head = self.head.next\n",
    "        else:\n",
    "            temp = self.head\n",
    "            counter = 0\n",
    "            while counter < index - 1:\n",
    "                temp.next\n",
    "                counter += 1\n",
    "            temp.next = temp.next.next\n",
    "            temp.next.next.prev = temp.next.prev\n",
    "            \n",
    "            self.length -= 1\n",
    "        \n",
    "    def print_from_head(self):\n",
    "        temp = self.head\n",
    "        array = []\n",
    "        counter = 0\n",
    "        while temp != None:\n",
    "            array.append(temp.val)\n",
    "            temp = temp.next \n",
    "            counter += 1\n",
    "        return \"HEAD\", array, \"TAIL\"\n",
    "    \n",
    "    def print_from_tail(self):\n",
    "        temp = self.tail\n",
    "        array = []\n",
    "        counter = 0\n",
    "        while temp != None:\n",
    "            array.append(temp.val)\n",
    "            temp = temp.prev\n",
    "            counter += 1\n",
    "        return \"TAIL\", array, \"HEAD\"\n",
    "        "
   ]
  },
  {
   "cell_type": "code",
   "execution_count": 290,
   "id": "597125e3",
   "metadata": {},
   "outputs": [],
   "source": [
    "app = DoubleLinkedList()\n",
    "app.append(2)\n",
    "app.append(3)\n",
    "app.append(5)\n",
    "app.prepend(7)\n",
    "app.prepend(3)\n",
    "app.prepend(67)\n",
    "app.insert_start_from_head(2, 32)"
   ]
  },
  {
   "cell_type": "code",
   "execution_count": 291,
   "id": "8279f0a8",
   "metadata": {
    "scrolled": false
   },
   "outputs": [
    {
     "data": {
      "text/plain": [
       "('HEAD', [5, 3, 32, 2, 7, 3, 67], 'TAIL')"
      ]
     },
     "execution_count": 291,
     "metadata": {},
     "output_type": "execute_result"
    }
   ],
   "source": [
    "app.print_from_head()"
   ]
  },
  {
   "cell_type": "code",
   "execution_count": 292,
   "id": "7a2a242d",
   "metadata": {},
   "outputs": [
    {
     "data": {
      "text/plain": [
       "('TAIL', [67, 3, 7, 2, 32, 3, 5], 'HEAD')"
      ]
     },
     "execution_count": 292,
     "metadata": {},
     "output_type": "execute_result"
    }
   ],
   "source": [
    "app.print_from_tail()"
   ]
  },
  {
   "cell_type": "code",
   "execution_count": 293,
   "id": "46c9ce6e",
   "metadata": {},
   "outputs": [],
   "source": [
    "app.insert_start_from_tail(5, 32)"
   ]
  },
  {
   "cell_type": "code",
   "execution_count": 294,
   "id": "26c9cc60",
   "metadata": {},
   "outputs": [
    {
     "data": {
      "text/plain": [
       "('HEAD', [5, 3, 32, 32, 2, 7, 3, 67], 'TAIL')"
      ]
     },
     "execution_count": 294,
     "metadata": {},
     "output_type": "execute_result"
    }
   ],
   "source": [
    "app.print_from_head()"
   ]
  },
  {
   "cell_type": "code",
   "execution_count": 295,
   "id": "1e5e26d1",
   "metadata": {},
   "outputs": [
    {
     "data": {
      "text/plain": [
       "('TAIL', [67, 3, 7, 2, 32, 32, 3, 5], 'HEAD')"
      ]
     },
     "execution_count": 295,
     "metadata": {},
     "output_type": "execute_result"
    }
   ],
   "source": [
    "app.print_from_tail()"
   ]
  },
  {
   "cell_type": "code",
   "execution_count": 296,
   "id": "72d6d557",
   "metadata": {},
   "outputs": [],
   "source": [
    "app.delete_from_head(4)"
   ]
  },
  {
   "cell_type": "code",
   "execution_count": 297,
   "id": "6d3bf313",
   "metadata": {},
   "outputs": [
    {
     "data": {
      "text/plain": [
       "('HEAD', [5, 32, 32, 2, 7, 3, 67], 'TAIL')"
      ]
     },
     "execution_count": 297,
     "metadata": {},
     "output_type": "execute_result"
    }
   ],
   "source": [
    "app.print_from_head()"
   ]
  },
  {
   "cell_type": "code",
   "execution_count": 298,
   "id": "d5a73401",
   "metadata": {
    "scrolled": true
   },
   "outputs": [
    {
     "data": {
      "text/plain": [
       "('TAIL', [67, 3, 7, 2, 32, 3, 5], 'HEAD')"
      ]
     },
     "execution_count": 298,
     "metadata": {},
     "output_type": "execute_result"
    }
   ],
   "source": [
    "app.print_from_tail()"
   ]
  }
 ],
 "metadata": {
  "kernelspec": {
   "display_name": "Python 3 (ipykernel)",
   "language": "python",
   "name": "python3"
  },
  "language_info": {
   "codemirror_mode": {
    "name": "ipython",
    "version": 3
   },
   "file_extension": ".py",
   "mimetype": "text/x-python",
   "name": "python",
   "nbconvert_exporter": "python",
   "pygments_lexer": "ipython3",
   "version": "3.8.10"
  }
 },
 "nbformat": 4,
 "nbformat_minor": 5
}
