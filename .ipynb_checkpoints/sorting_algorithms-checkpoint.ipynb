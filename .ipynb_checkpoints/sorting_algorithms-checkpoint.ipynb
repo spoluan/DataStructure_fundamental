{
 "cells": [
  {
   "cell_type": "code",
   "execution_count": 176,
   "id": "1d32335d",
   "metadata": {},
   "outputs": [],
   "source": [
    "import numpy as np"
   ]
  },
  {
   "cell_type": "markdown",
   "id": "f4e117c6",
   "metadata": {},
   "source": [
    "# Bubble sort"
   ]
  },
  {
   "cell_type": "code",
   "execution_count": 177,
   "id": "c03716e2",
   "metadata": {
    "scrolled": true
   },
   "outputs": [
    {
     "name": "stdout",
     "output_type": "stream",
     "text": [
      "Sorted after 72 loops instead of 100.\n"
     ]
    },
    {
     "data": {
      "text/plain": [
       "array([ 3, 13, 13, 26, 34, 44, 55, 76, 93, 93])"
      ]
     },
     "execution_count": 177,
     "metadata": {},
     "output_type": "execute_result"
    }
   ],
   "source": [
    "def bubble_sort(array): # O(n^2)\n",
    "    count = 0\n",
    "    for x in range(len(array)):\n",
    "        count_done = 0\n",
    "        for y in range(len(array) - 1):\n",
    "            if array[y] > array[y + 1]:\n",
    "                temp = array[y]\n",
    "                array[y] = array[y + 1]\n",
    "                array[y + 1] = temp\n",
    "            \n",
    "            else:\n",
    "                count_done += 1\n",
    "            count += 1\n",
    "        \n",
    "        # For optimization of this bubble sort\n",
    "        if count_done == len(array) - 1:\n",
    "            break\n",
    "            \n",
    "    print(f\"Sorted after {count} loops instead of {len(array) * len(array)}.\")\n",
    "    return array\n",
    "\n",
    "array = np.random.randint(0, 100, size=10)\n",
    "bubble_sort(array)"
   ]
  },
  {
   "cell_type": "markdown",
   "id": "77817202",
   "metadata": {},
   "source": [
    "# Selection sort"
   ]
  },
  {
   "cell_type": "code",
   "execution_count": 178,
   "id": "b7d392d1",
   "metadata": {},
   "outputs": [
    {
     "name": "stdout",
     "output_type": "stream",
     "text": [
      "Sorted after 45 loops instead of 100.\n"
     ]
    },
    {
     "data": {
      "text/plain": [
       "array([18, 27, 35, 37, 39, 49, 73, 82, 92, 92])"
      ]
     },
     "execution_count": 178,
     "metadata": {},
     "output_type": "execute_result"
    }
   ],
   "source": [
    "def selection_sort(array): # O(n^2)\n",
    "    \n",
    "    count = 0\n",
    "    for x in range(len(array)):\n",
    "        minimum = array[x]\n",
    "        index_minimum = x\n",
    "        for y in range(x + 1, len(array)):\n",
    "            if minimum > array[y]:\n",
    "                minimum = array[y]\n",
    "                index_minimum = y\n",
    "                \n",
    "            count += 1\n",
    "            \n",
    "        temp = array[x]\n",
    "        array[x] = minimum\n",
    "        array[index_minimum] = temp\n",
    "        \n",
    "    print(f\"Sorted after {count} loops instead of {len(array) * len(array)}.\")\n",
    "    return array\n",
    "\n",
    "array = np.random.randint(0, 100, size=10)\n",
    "selection_sort(array)            "
   ]
  },
  {
   "cell_type": "markdown",
   "id": "75c25306",
   "metadata": {},
   "source": [
    "# Insertion sort\n",
    "\n",
    "    Prety useful if the list is almost sorted O(n)\n",
    "    \n",
    "    5      |  3 43 4 76 86 35 64\n",
    "    sorted   unsorted"
   ]
  },
  {
   "cell_type": "code",
   "execution_count": 179,
   "id": "a4f3bba6",
   "metadata": {
    "scrolled": true
   },
   "outputs": [
    {
     "name": "stdout",
     "output_type": "stream",
     "text": [
      "Sorted after 20 loops instead of 100.\n"
     ]
    },
    {
     "data": {
      "text/plain": [
       "array([ 0,  6,  7, 10, 29, 54, 64, 82, 96, 97])"
      ]
     },
     "execution_count": 179,
     "metadata": {},
     "output_type": "execute_result"
    }
   ],
   "source": [
    "def insertion_sort(array): # O(n^2)\n",
    "    count = 0\n",
    "    for x in range(1, len(array)):\n",
    "        y = x\n",
    "        while array[y] < array[y-1] and y != 0:\n",
    "            array[y], array[y-1] = array[y-1], array[y]\n",
    "            y -= 1\n",
    "            count += 1\n",
    "            \n",
    "    print(f\"Sorted after {count if count > 0 else len(array)} loops instead of {len(array) * len(array)}.\")\n",
    "    return array\n",
    "\n",
    "array = np.random.randint(0, 100, size=10)\n",
    "# array = [1,2,3,4,5,6,7,8,9,10]\n",
    "insertion_sort(array)"
   ]
  },
  {
   "cell_type": "markdown",
   "id": "51f8871e",
   "metadata": {},
   "source": [
    "# Merge sort"
   ]
  },
  {
   "cell_type": "code",
   "execution_count": 180,
   "id": "64a8e23e",
   "metadata": {},
   "outputs": [],
   "source": [
    "def merge_sort(array, count=0): # O(n log n)\n",
    "    \n",
    "    count += 1\n",
    "    \n",
    "    if len(array) > 1:\n",
    "        \n",
    "        mid = len(array) // 2\n",
    "        left = array[:mid]\n",
    "        right = array[mid:]\n",
    "        \n",
    "        # recursive\n",
    "        merge_sort(left, count)\n",
    "        merge_sort(right, count)\n",
    "        \n",
    "        left_index = 0\n",
    "        right_index = 0\n",
    "        array_index = 0\n",
    "        while left_index < len(left) and right_index < len(right):\n",
    "            if left[left_index] < right[right_index]:\n",
    "                array[array_index] = left[left_index]\n",
    "                left_index += 1\n",
    "            else:\n",
    "                array[array_index] = right[right_index]\n",
    "                right_index += 1\n",
    "            array_index += 1\n",
    "            count += 1\n",
    "        \n",
    "        while left_index < len(left):\n",
    "            array[array_index] = left[left_index]\n",
    "            left_index += 1\n",
    "            array_index += 1\n",
    "            count += 1\n",
    "        \n",
    "        while right_index < len(right):\n",
    "            array[array_index] = right[right_index]\n",
    "            right_index += 1\n",
    "            array_index += 1\n",
    "            count + 1\n",
    "            \n",
    "    return count"
   ]
  },
  {
   "cell_type": "code",
   "execution_count": 181,
   "id": "d12abdff",
   "metadata": {
    "scrolled": true
   },
   "outputs": [
    {
     "name": "stdout",
     "output_type": "stream",
     "text": [
      "[45, 42, 45, 60, 36, 72, 90, 28, 17, 73]\n"
     ]
    }
   ],
   "source": [
    "arrays = list(np.random.randint(0, 100, size=10))\n",
    "print(arrays)"
   ]
  },
  {
   "cell_type": "code",
   "execution_count": 182,
   "id": "34e38b53",
   "metadata": {},
   "outputs": [
    {
     "name": "stdout",
     "output_type": "stream",
     "text": [
      "Sorted after 8 loops.\n"
     ]
    }
   ],
   "source": [
    "count = merge_sort(arrays) \n",
    "print(f\"Sorted after {count} loops.\")"
   ]
  },
  {
   "cell_type": "code",
   "execution_count": 183,
   "id": "df184829",
   "metadata": {},
   "outputs": [
    {
     "data": {
      "text/plain": [
       "[17, 28, 36, 42, 45, 45, 60, 72, 73, 90]"
      ]
     },
     "execution_count": 183,
     "metadata": {},
     "output_type": "execute_result"
    }
   ],
   "source": [
    "arrays"
   ]
  }
 ],
 "metadata": {
  "kernelspec": {
   "display_name": "Python 3 (ipykernel)",
   "language": "python",
   "name": "python3"
  },
  "language_info": {
   "codemirror_mode": {
    "name": "ipython",
    "version": 3
   },
   "file_extension": ".py",
   "mimetype": "text/x-python",
   "name": "python",
   "nbconvert_exporter": "python",
   "pygments_lexer": "ipython3",
   "version": "3.8.10"
  }
 },
 "nbformat": 4,
 "nbformat_minor": 5
}
